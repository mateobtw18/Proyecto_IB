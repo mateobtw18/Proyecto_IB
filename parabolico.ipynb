{
 "cells": [
  {
   "cell_type": "markdown",
   "metadata": {},
   "source": [
    "# Lanzamiento de un proyectil desde un avión"
   ]
  },
  {
   "cell_type": "markdown",
   "metadata": {},
   "source": [
    "## Inicialización de Variables\n",
    "\n",
    "Todas las variables que se piden como entrada."
   ]
  },
  {
   "cell_type": "code",
   "execution_count": 112,
   "metadata": {},
   "outputs": [],
   "source": [
    "import matplotlib.pyplot as plt\n",
    "import numpy as np\n",
    "\n",
    "h_avion = 200\n",
    "d_lanzamiento = 50\n",
    "h_canion = 60\n",
    "a = 39\n",
    "angulo = np.radians(a)\n",
    "l_canion = 140\n",
    "\n",
    "g = 9.81\n",
    "v0 = 15"
   ]
  },
  {
   "cell_type": "markdown",
   "metadata": {},
   "source": [
    "## Superficie\n",
    "\n",
    "Con esto se dibuja la forma del suelo y el cañón."
   ]
  },
  {
   "cell_type": "code",
   "execution_count": 113,
   "metadata": {},
   "outputs": [],
   "source": [
    "def f_lineal(m, b, x):\n",
    "    return m * x + b"
   ]
  },
  {
   "cell_type": "code",
   "execution_count": 114,
   "metadata": {},
   "outputs": [],
   "source": [
    "A = 0.5 * d_lanzamiento\n",
    "Xa = [0, A]\n",
    "Ya = [0, 0]\n",
    "\n",
    "b = d_lanzamiento\n",
    "B = A + b\n",
    "Xb = [A, B]\n",
    "Yb = [0, 0]\n",
    "\n",
    "c = h_canion / np.tan(angulo)\n",
    "C = B + c\n",
    "mc = np.tan(np.pi - angulo)\n",
    "c_corte = B * np.tan(angulo)\n",
    "yc = f_lineal(mc, c_corte , C)\n",
    "Xc = [B, C]\n",
    "Yc = [0, yc]\n",
    "\n",
    "D = C + l_canion\n",
    "Xd = [C, D]\n",
    "Yd = [-h_canion, -h_canion]\n",
    "\n",
    "E = D + c\n",
    "me = -mc\n",
    "e_corte = -E * np.tan(angulo)\n",
    "ye = f_lineal(me, e_corte, E)\n",
    "Xe = [D, E]\n",
    "Ye = [-h_canion, ye]\n",
    "\n",
    "#f = A\n",
    "#F = E + f\n",
    "#Xf = [E, F]\n",
    "#Yf = [0, 0]"
   ]
  },
  {
   "cell_type": "markdown",
   "metadata": {},
   "source": [
    "## Colisión"
   ]
  },
  {
   "cell_type": "markdown",
   "metadata": {},
   "source": [
    "### Colisión en rectas constantes (3)\n",
    "\n",
    "Es el primer caso para encontrar el punto de colisión.\n",
    "\n",
    "La ecuación se obtiene de despejar la ecuación de la trayectoria $y(x)$ a su versión de $x(y)$.\n",
    "* Suelo: $y = 0$\n",
    "* Cañón: $y = -h_{canion}$"
   ]
  },
  {
   "cell_type": "code",
   "execution_count": 115,
   "metadata": {},
   "outputs": [],
   "source": [
    "def xrecta(y):\n",
    "    return np.sqrt(((2 * v0**2) / g) * (h_avion - y)) + A"
   ]
  },
  {
   "cell_type": "markdown",
   "metadata": {},
   "source": [
    "Con este valor ya se consigue el punto exacto de colisión en las lineas horizontales de la superficie.\n",
    "\n",
    "Sería un sistema de ecuaciones entre:\n",
    "* Ec. trayectoria: $y = [...]x^2$\n",
    "* Exuacion constante: $x = n$\n",
    "\n",
    "Pero, solo es reemplazo al ojo.\n"
   ]
  },
  {
   "cell_type": "markdown",
   "metadata": {},
   "source": [
    "### Colisión en diagonales (2)\n",
    "\n",
    "La siguiente función nos permitirá resolver el sistema de ecuaciones entre:\n",
    "* Ec. trayectoria:$y = [...]x^2$\n",
    "* Ec. lineal: $y = mx + b$\n",
    "\n",
    "En la parte de *Casos*, se ve el despeje maldito para obtener los coeficientes $a, b, c$ de la ecuación cuadrática resultante, y así obtener la coordenada en $x$. Para después reemplazar en la ec. lineal para obtener la coordenada en $y$."
   ]
  },
  {
   "cell_type": "code",
   "execution_count": 116,
   "metadata": {},
   "outputs": [],
   "source": [
    "def resolver_cuadratica(a, b, c):\n",
    "    discriminante = b**2 - 4 * a * c\n",
    "\n",
    "    #if discriminante < 0:\n",
    "    #    return \"No hay soluciones reales\"\n",
    "\n",
    "    raiz_discriminante = np.sqrt(discriminante)\n",
    "    x1 = (-b + raiz_discriminante) / (2 * a)\n",
    "    #x2 = (-b - raiz_discriminante) / (2 * a)\n",
    "\n",
    "    #return (x1, x2) if x1 != x2 else (x1,)\n",
    "    return x1"
   ]
  },
  {
   "cell_type": "markdown",
   "metadata": {},
   "source": [
    "## Casos\n",
    "De todas las varaibles de entrada que se mencionan para la implementación, la única inherente al movimiento es la $v_0$ y, por lo tanto, de esta depende el movimiento.\n",
    "\n",
    "Así, la mejor manera de separar los casos donde la bomba puede caer, es en función de la velocidad máxima que puede tener el avión para que la bomba caiga dentro de un intervalo de las distintas formas en las superficie.\n",
    "\n",
    "La función queda determinada por $v(x, y)$, que depende de las coordenadas del punto final de los tramos de la superficie $(B, C, D, E)$, que se obtiene de despejar $v_0$ de la ec. de la trayectoria."
   ]
  },
  {
   "cell_type": "code",
   "execution_count": 117,
   "metadata": {},
   "outputs": [],
   "source": [
    "def velocidad_max(x, y):\n",
    "    return np.sqrt(g / (2 * (h_avion - y))) * (x - A)\n",
    "\n",
    "\n",
    "vb_max = velocidad_max(B, 0)\n",
    "vc_max = velocidad_max(C, -h_canion)\n",
    "vd_max = velocidad_max(D, -h_canion)\n",
    "ve_max = velocidad_max(E, 0)"
   ]
  },
  {
   "cell_type": "markdown",
   "metadata": {},
   "source": [
    "Se implementan todos los casos, dependiendo de la velocidad incial del avión."
   ]
  },
  {
   "cell_type": "code",
   "execution_count": 118,
   "metadata": {},
   "outputs": [],
   "source": [
    "if 0 < v0 <= vb_max:\n",
    "    x_b = xrecta(0)\n",
    "    y_b = 0\n",
    "    colision = [x_b, y_b]\n",
    "elif vb_max < v0 <= vc_max:\n",
    "    a = g / (2 * v0**2)\n",
    "    b = mc - ((g * A) / (v0**2))\n",
    "    c = (g / (2 * v0**2)) * A**2 + c_corte - h_avion\n",
    "\n",
    "    x_c = resolver_cuadratica(a, b, c)\n",
    "    y_c = f_lineal(mc, c_corte, x_c)\n",
    "    colision = [x_c, y_c]\n",
    "elif vc_max < v0 <= vd_max:\n",
    "    x_d = xrecta(-h_canion)\n",
    "    y_d = -h_canion\n",
    "    colision = [x_d, y_d]\n",
    "elif vd_max < v0 <= ve_max:\n",
    "    a = g / (2 * v0**2)\n",
    "    b = me - ((g * A) / (v0**2))\n",
    "    c = (g / (2 * v0**2)) * A**2 + e_corte - h_avion\n",
    "\n",
    "    x_e = resolver_cuadratica(a, b, c)\n",
    "    y_e = f_lineal(me, e_corte, x_e)\n",
    "    colision = [x_e, y_e]\n",
    "else:\n",
    "    x_f = xrecta(0)\n",
    "    y_f = 0\n",
    "    colision = [x_f, y_f]"
   ]
  },
  {
   "cell_type": "markdown",
   "metadata": {},
   "source": [
    "## Trayectoria"
   ]
  },
  {
   "cell_type": "code",
   "execution_count": 119,
   "metadata": {},
   "outputs": [],
   "source": [
    "def trayectoria(x):\n",
    "    return h_avion - (g / (2 * v0**2)) * (x - A) ** 2"
   ]
  },
  {
   "cell_type": "code",
   "execution_count": 120,
   "metadata": {},
   "outputs": [],
   "source": [
    "x_col, y_col = colision\n",
    "\n",
    "xs = np.linspace(A, x_col, 100)\n",
    "ys = trayectoria(xs)"
   ]
  },
  {
   "cell_type": "markdown",
   "metadata": {},
   "source": [
    "## Límite de la gráfica"
   ]
  },
  {
   "cell_type": "code",
   "execution_count": 121,
   "metadata": {},
   "outputs": [],
   "source": [
    "f = A\n",
    "F = E + f\n",
    "\n",
    "if F < x_col:\n",
    "    F = x_col + f \n",
    "\n",
    "Xf = [E, F]\n",
    "Yf = [0, 0]"
   ]
  },
  {
   "cell_type": "markdown",
   "metadata": {},
   "source": [
    "## Plot"
   ]
  },
  {
   "cell_type": "code",
   "execution_count": 122,
   "metadata": {},
   "outputs": [
    {
     "data": {
      "image/png": "[encoded data removed]",
      "text/plain": [
       "<Figure size 640x480 with 1 Axes>"
      ]
     },
     "metadata": {},
     "output_type": "display_data"
    }
   ],
   "source": [
    "plt.scatter(A, h_avion, marker=\">\", linewidth=5)\n",
    "plt.plot(Xa, Ya, color=\"orange\", linewidth=2)\n",
    "plt.scatter(A, 0, label=f\"A {A:.2f}\")\n",
    "plt.plot(Xb, Yb, color=\"brown\", linewidth=2)\n",
    "plt.scatter(B, 0, label=f\"B {B:.2f}\")\n",
    "plt.plot(Xc, Yc, color=\"orange\", linewidth=2)\n",
    "plt.scatter(C, yc, label=f\"C {C:.2f}\")\n",
    "plt.plot(Xd, Yd, color=\"brown\", linewidth=2)\n",
    "plt.scatter(D, -h_canion, label=f\"D {D:.2f}\")\n",
    "plt.plot(Xe, Ye, color=\"orange\", linewidth=2)\n",
    "plt.scatter(E, 0, label=f\"E {E:.2f}\")\n",
    "plt.plot(Xf, Yf, color=\"brown\", linewidth=2)\n",
    "plt.scatter(F, 0, label=f\"F {F:.2f}\")\n",
    "\n",
    "plt.axhline(h_avion, linestyle=\":\", color=\"black\", linewidth=2)\n",
    "\n",
    "plt.scatter(\n",
    "    x_col,\n",
    "    y_col,\n",
    "    marker=\"X\",\n",
    "    s=100,\n",
    "    color=\"red\",\n",
    "    label=f\"{x_col:.2f}, {y_col:.2f} \",\n",
    ")\n",
    "\n",
    "plt.plot(xs, ys, linestyle=\"--\")\n",
    "\n",
    "plt.xlim(0, F)\n",
    "plt.ylim(-1.25 * h_canion, 1.25 * h_avion)\n",
    "plt.legend()\n",
    "plt.grid()\n",
    "plt.show()"
   ]
  }
 ],
 "metadata": {
  "kernelspec": {
   "display_name": "Python 3",
   "language": "python",
   "name": "python3"
  },
  "language_info": {
   "codemirror_mode": {
    "name": "ipython",
    "version": 3
   },
   "file_extension": ".py",
   "mimetype": "text/x-python",
   "name": "python",
   "nbconvert_exporter": "python",
   "pygments_lexer": "ipython3",
   "version": "3.12.7"
  }
 },
 "nbformat": 4,
 "nbformat_minor": 2
}
